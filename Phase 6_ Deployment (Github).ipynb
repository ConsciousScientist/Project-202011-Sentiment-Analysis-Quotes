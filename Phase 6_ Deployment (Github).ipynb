{
  "nbformat": 4,
  "nbformat_minor": 0,
  "metadata": {
    "colab": {
      "name": "Phase 5: Deployment (Github).ipynb",
      "provenance": [],
      "collapsed_sections": [],
      "toc_visible": true
    },
    "kernelspec": {
      "name": "python3",
      "display_name": "Python 3"
    }
  },
  "cells": [
    {
      "cell_type": "markdown",
      "metadata": {
        "id": "NMTw5zC3Q-tO"
      },
      "source": [
        "# Notbeook with part of final master work\n",
        "\n",
        "This notebook is summary of all other phases + the generation and management of the databse.\n",
        "\n",
        "This is the tool the client would use in daily basis to add new quotes to the database coming from Twitter.\n"
      ]
    },
    {
      "cell_type": "markdown",
      "metadata": {
        "id": "jHOu6kc6vX4m"
      },
      "source": [
        "## Libraries and load files in colab"
      ]
    },
    {
      "cell_type": "code",
      "metadata": {
        "id": "54a2oX7GvT0K",
        "outputId": "b404cd7a-f8b9-4dce-8714-7f5baeb90f10",
        "colab": {
          "base_uri": "https://localhost:8080/"
        }
      },
      "source": [
        "# Libraries to load the dataframes\n",
        "from google.colab import drive\n",
        "import csv\n",
        "\n",
        "# For preprocessing\n",
        "import numpy as np\n",
        "import pandas as pd \n",
        "import re\n",
        "\n",
        "# For ML\n",
        "from keras.preprocessing.text import Tokenizer\n",
        "from keras.preprocessing.sequence import pad_sequences\n",
        "from sklearn.feature_extraction.text import CountVectorizer\n",
        "from sklearn.model_selection import train_test_split\n",
        "\n",
        "from tensorflow import keras\n",
        "from keras.models import Sequential\n",
        "from keras.layers import Embedding\n",
        "from keras.layers import Dropout\n",
        "from keras.layers import SpatialDropout1D\n",
        "from keras.layers import Dense\n",
        "from tensorflow.keras.layers import LSTM\n",
        "from keras.callbacks import EarlyStopping\n",
        "\n",
        "# For plotting\n",
        "import matplotlib.pyplot as plt\n",
        "\n",
        "# For tweet processing\n",
        "import tweepy\n",
        "import datetime\n",
        "import nltk\n",
        "from nltk.corpus import stopwords\n",
        "nltk.download('stopwords')   # download the stopwords from NLTK\n",
        "import string # for string operations"
      ],
      "execution_count": 11,
      "outputs": [
        {
          "output_type": "stream",
          "text": [
            "[nltk_data] Downloading package stopwords to /root/nltk_data...\n",
            "[nltk_data]   Package stopwords is already up-to-date!\n"
          ],
          "name": "stdout"
        }
      ]
    },
    {
      "cell_type": "markdown",
      "metadata": {
        "id": "bbc8zUEbsWQ3"
      },
      "source": [
        "Here I load the files which where stored in my google colab. Please change path in case you want to use this."
      ]
    },
    {
      "cell_type": "code",
      "metadata": {
        "id": "o_7brRCivbQ4",
        "outputId": "e9f26775-998d-4e15-b396-84c45fef6277",
        "colab": {
          "base_uri": "https://localhost:8080/"
        }
      },
      "source": [
        "drive.mount(\"/content/drive\")"
      ],
      "execution_count": 12,
      "outputs": [
        {
          "output_type": "stream",
          "text": [
            "Drive already mounted at /content/drive; to attempt to forcibly remount, call drive.mount(\"/content/drive\", force_remount=True).\n"
          ],
          "name": "stdout"
        }
      ]
    },
    {
      "cell_type": "code",
      "metadata": {
        "id": "5WCH_X9jvf2S"
      },
      "source": [
        "rawdf = pd.read_csv('/content/drive/My Drive/VIU/TFM/3rd Iteration/quotes_phase0.csv', error_bad_lines=False, header=0)"
      ],
      "execution_count": 19,
      "outputs": []
    },
    {
      "cell_type": "code",
      "metadata": {
        "id": "eAi2Kou9vgMY"
      },
      "source": [
        "#Best practise to avoid re-upload the dataset in case of errors\n",
        "df = rawdf.copy(deep=True)"
      ],
      "execution_count": 20,
      "outputs": []
    },
    {
      "cell_type": "markdown",
      "metadata": {
        "id": "enSECMR6WEff"
      },
      "source": [
        "## Log into MondoDB Database \"TFMDatabase\"\n",
        "\n",
        "Here we log into the MongoDB databse and create a database called TFMDatabase"
      ]
    },
    {
      "cell_type": "code",
      "metadata": {
        "id": "Di3Hrk6IhKnb"
      },
      "source": [
        "#Connected to MondoDB and database \"TFMDatabase\"\n",
        "import pymongo\n",
        " \n",
        "my_client = pymongo.MongoClient(\n",
        "    #MongoDB client URL\n",
        ")\n"
      ],
      "execution_count": null,
      "outputs": []
    },
    {
      "cell_type": "code",
      "metadata": {
        "id": "EYrHmNm5hiY4",
        "outputId": "288f133d-40f2-477c-a0a3-f1389f48c2f4",
        "colab": {
          "base_uri": "https://localhost:8080/",
          "height": 32
        }
      },
      "source": [
        "#Check MongoDB version\n",
        "try:\n",
        "    print(\"MongoDB version is %s\" %\n",
        "            my_client.server_info()['version'])\n",
        "except pymongo.errors.OperationFailure as error:\n",
        "    print(error)\n",
        "    quit(1)"
      ],
      "execution_count": null,
      "outputs": [
        {
          "output_type": "stream",
          "text": [
            "MongoDB version is 4.2.9\n"
          ],
          "name": "stdout"
        }
      ]
    },
    {
      "cell_type": "code",
      "metadata": {
        "id": "pYUF8fmB7we3",
        "outputId": "fa37a0bf-9b67-438e-f37e-5389ace11ad2",
        "colab": {
          "base_uri": "https://localhost:8080/",
          "height": 52
        }
      },
      "source": [
        "#Connect to database (in my case called \"TFMDatabase\")\n",
        "my_database = my_client.TFMDatabase\n",
        "my_database"
      ],
      "execution_count": null,
      "outputs": [
        {
          "output_type": "execute_result",
          "data": {
            "text/plain": [
              "Database(MongoClient(host=['tfmdatabase-shard-00-01.4jk37.gcp.mongodb.net:27017', 'tfmdatabase-shard-00-02.4jk37.gcp.mongodb.net:27017', 'tfmdatabase-shard-00-00.4jk37.gcp.mongodb.net:27017'], document_class=dict, tz_aware=False, connect=True, ssl=True, replicaset='atlas-mxwu07-shard-0', authsource='admin', retrywrites=True, w='majority'), 'TFMDatabase')"
            ]
          },
          "metadata": {
            "tags": []
          },
          "execution_count": 8
        }
      ]
    },
    {
      "cell_type": "markdown",
      "metadata": {
        "id": "m2MTEWEKaFDx"
      },
      "source": [
        "## Create data collection and store processed data in it\n",
        "\n",
        "We create a data collection called \"labelled_quotes\" and add it into the database TFMDatabse.\n",
        "\n",
        "Finally, we add the processed data \"quotes_phase0\" in it."
      ]
    },
    {
      "cell_type": "code",
      "metadata": {
        "id": "kLzjAduHZ0Gv"
      },
      "source": [
        "#Create/connect a collection for the processed quotes in phase 0\n",
        "labelled_quotes = my_database.labelled_quotes\n",
        "labelled_quotes"
      ],
      "execution_count": null,
      "outputs": []
    },
    {
      "cell_type": "code",
      "metadata": {
        "id": "zHa3ztcp3-XL",
        "outputId": "258e2985-80dc-4361-81b2-34b537d6f77b",
        "colab": {
          "base_uri": "https://localhost:8080/"
        }
      },
      "source": [
        "df.shape"
      ],
      "execution_count": 21,
      "outputs": [
        {
          "output_type": "execute_result",
          "data": {
            "text/plain": [
              "(367185, 2)"
            ]
          },
          "metadata": {
            "tags": []
          },
          "execution_count": 21
        }
      ]
    },
    {
      "cell_type": "code",
      "metadata": {
        "id": "k3u44v2bMEms",
        "outputId": "6054c1c0-5abb-41ce-b631-987a8373395e",
        "colab": {
          "base_uri": "https://localhost:8080/",
          "height": 201
        }
      },
      "source": [
        "df.head()"
      ],
      "execution_count": 10,
      "outputs": [
        {
          "output_type": "execute_result",
          "data": {
            "text/html": [
              "<div>\n",
              "<style scoped>\n",
              "    .dataframe tbody tr th:only-of-type {\n",
              "        vertical-align: middle;\n",
              "    }\n",
              "\n",
              "    .dataframe tbody tr th {\n",
              "        vertical-align: top;\n",
              "    }\n",
              "\n",
              "    .dataframe thead th {\n",
              "        text-align: right;\n",
              "    }\n",
              "</style>\n",
              "<table border=\"1\" class=\"dataframe\">\n",
              "  <thead>\n",
              "    <tr style=\"text-align: right;\">\n",
              "      <th></th>\n",
              "      <th>Quotes</th>\n",
              "      <th>Label</th>\n",
              "    </tr>\n",
              "  </thead>\n",
              "  <tbody>\n",
              "    <tr>\n",
              "      <th>0</th>\n",
              "      <td>I'm selfish, impatient and a little insecure. ...</td>\n",
              "      <td>attributed-no-source, best, life, love, mistak...</td>\n",
              "    </tr>\n",
              "    <tr>\n",
              "      <th>1</th>\n",
              "      <td>You've gotta dance like there's nobody watchin...</td>\n",
              "      <td>dance, heaven, hurt, inspirational, life, love...</td>\n",
              "    </tr>\n",
              "    <tr>\n",
              "      <th>2</th>\n",
              "      <td>You know you're in love when you can't fall as...</td>\n",
              "      <td>attributed-no-source, dreams, love, reality, s...</td>\n",
              "    </tr>\n",
              "    <tr>\n",
              "      <th>3</th>\n",
              "      <td>A friend is someone who knows all about you an...</td>\n",
              "      <td>friend, friendship, knowledge, love</td>\n",
              "    </tr>\n",
              "    <tr>\n",
              "      <th>4</th>\n",
              "      <td>Darkness cannot drive out darkness: only light...</td>\n",
              "      <td>darkness, drive-out, hate, inspirational, ligh...</td>\n",
              "    </tr>\n",
              "  </tbody>\n",
              "</table>\n",
              "</div>"
            ],
            "text/plain": [
              "                                              Quotes                                              Label\n",
              "0  I'm selfish, impatient and a little insecure. ...  attributed-no-source, best, life, love, mistak...\n",
              "1  You've gotta dance like there's nobody watchin...  dance, heaven, hurt, inspirational, life, love...\n",
              "2  You know you're in love when you can't fall as...  attributed-no-source, dreams, love, reality, s...\n",
              "3  A friend is someone who knows all about you an...                friend, friendship, knowledge, love\n",
              "4  Darkness cannot drive out darkness: only light...  darkness, drive-out, hate, inspirational, ligh..."
            ]
          },
          "metadata": {
            "tags": []
          },
          "execution_count": 10
        }
      ]
    },
    {
      "cell_type": "code",
      "metadata": {
        "id": "sJ_lkCKtahQK"
      },
      "source": [
        "with open('/content/drive/My Drive/VIU/TFM/3rd Iteration/quotes_phase0.csv') as f1:\n",
        "  records=csv.reader(f1,delimiter=\",\")\n",
        "  li=[]\n",
        "  for record in records:\n",
        "    dict={}\n",
        "    Quote=record[0]\n",
        "    Label=record[1]\n",
        "    dict={'Quotes':Quote,'Label':Label}\n",
        "    li.append(dict)"
      ],
      "execution_count": null,
      "outputs": []
    },
    {
      "cell_type": "code",
      "metadata": {
        "id": "3xIjUn1f5H-Q"
      },
      "source": [
        "# Add documents to the collection\n",
        "labelled_quotes.insert_many(li)"
      ],
      "execution_count": null,
      "outputs": []
    },
    {
      "cell_type": "code",
      "metadata": {
        "id": "2Cm27nRTDsh8",
        "outputId": "3e220af3-4311-4e24-e3c9-1b6691f99744",
        "colab": {
          "base_uri": "https://localhost:8080/",
          "height": 32
        }
      },
      "source": [
        "# Delete_one and delete_many to delete documents in the collection\n",
        "labelled_quotes.delete_one({\n",
        "    \"Quotes\": \"Quotes\",\n",
        "    \"Label\": \"Label\"\n",
        "})"
      ],
      "execution_count": null,
      "outputs": [
        {
          "output_type": "execute_result",
          "data": {
            "text/plain": [
              "<pymongo.results.DeleteResult at 0x7f8414316708>"
            ]
          },
          "metadata": {
            "tags": []
          },
          "execution_count": 12
        }
      ]
    },
    {
      "cell_type": "markdown",
      "metadata": {
        "id": "Cd4acQjs686c"
      },
      "source": [
        "## Model generation\n",
        "\n",
        "This is part of notebook Phase 4: Modeling."
      ]
    },
    {
      "cell_type": "code",
      "metadata": {
        "id": "CEGmFs_blx2-"
      },
      "source": [
        "# Let's load the preprocessed dataset\n",
        "rawdf = pd.read_csv('/content/drive/My Drive/VIU/TFM/3rd Iteration/quotes_phase4.csv', error_bad_lines=False, header=0)"
      ],
      "execution_count": 22,
      "outputs": []
    },
    {
      "cell_type": "code",
      "metadata": {
        "id": "hX0SHneiOGry"
      },
      "source": [
        "# Let's load agaon the df\n",
        "df = rawdf.copy(deep=True)"
      ],
      "execution_count": 23,
      "outputs": []
    },
    {
      "cell_type": "markdown",
      "metadata": {
        "id": "_jPkJvVX9W5p"
      },
      "source": [
        "### Pre-processing"
      ]
    },
    {
      "cell_type": "code",
      "metadata": {
        "id": "s1r6AsMG7HAC",
        "outputId": "81dbf2e1-dcdb-4fda-9b29-77f9ade10164",
        "colab": {
          "base_uri": "https://localhost:8080/",
          "height": 201
        }
      },
      "source": [
        "df['clean_doc'] = df['clean_doc'].astype(str)\n",
        "df.head()"
      ],
      "execution_count": 24,
      "outputs": [
        {
          "output_type": "execute_result",
          "data": {
            "text/html": [
              "<div>\n",
              "<style scoped>\n",
              "    .dataframe tbody tr th:only-of-type {\n",
              "        vertical-align: middle;\n",
              "    }\n",
              "\n",
              "    .dataframe tbody tr th {\n",
              "        vertical-align: top;\n",
              "    }\n",
              "\n",
              "    .dataframe thead th {\n",
              "        text-align: right;\n",
              "    }\n",
              "</style>\n",
              "<table border=\"1\" class=\"dataframe\">\n",
              "  <thead>\n",
              "    <tr style=\"text-align: right;\">\n",
              "      <th></th>\n",
              "      <th>Quotes</th>\n",
              "      <th>Label</th>\n",
              "      <th>clean_doc</th>\n",
              "    </tr>\n",
              "  </thead>\n",
              "  <tbody>\n",
              "    <tr>\n",
              "      <th>0</th>\n",
              "      <td>I'm selfish, impatient and a little insecure. ...</td>\n",
              "      <td>attributed-no-source best life love mistakes o...</td>\n",
              "      <td>selfish impatient little insecure make mistake...</td>\n",
              "    </tr>\n",
              "    <tr>\n",
              "      <th>1</th>\n",
              "      <td>You've gotta dance like there's nobody watchin...</td>\n",
              "      <td>dance heaven hurt inspirational life love sing</td>\n",
              "      <td>gotta dance nobody watching hurt sing nobody l...</td>\n",
              "    </tr>\n",
              "    <tr>\n",
              "      <th>2</th>\n",
              "      <td>You know you're in love when you can't fall as...</td>\n",
              "      <td>attributed-no-source dreams love reality sleep</td>\n",
              "      <td>know fall asleep reality finally better dreams</td>\n",
              "    </tr>\n",
              "    <tr>\n",
              "      <th>3</th>\n",
              "      <td>A friend is someone who knows all about you an...</td>\n",
              "      <td>friend friendship knowledge love</td>\n",
              "      <td>friend someone knows still loves</td>\n",
              "    </tr>\n",
              "    <tr>\n",
              "      <th>4</th>\n",
              "      <td>Darkness cannot drive out darkness: only light...</td>\n",
              "      <td>darkness drive-out hate inspirational light lo...</td>\n",
              "      <td>darkness cannot drive darkness light hate cann...</td>\n",
              "    </tr>\n",
              "  </tbody>\n",
              "</table>\n",
              "</div>"
            ],
            "text/plain": [
              "                                              Quotes  ...                                          clean_doc\n",
              "0  I'm selfish, impatient and a little insecure. ...  ...  selfish impatient little insecure make mistake...\n",
              "1  You've gotta dance like there's nobody watchin...  ...  gotta dance nobody watching hurt sing nobody l...\n",
              "2  You know you're in love when you can't fall as...  ...     know fall asleep reality finally better dreams\n",
              "3  A friend is someone who knows all about you an...  ...                   friend someone knows still loves\n",
              "4  Darkness cannot drive out darkness: only light...  ...  darkness cannot drive darkness light hate cann...\n",
              "\n",
              "[5 rows x 3 columns]"
            ]
          },
          "metadata": {
            "tags": []
          },
          "execution_count": 24
        }
      ]
    },
    {
      "cell_type": "code",
      "metadata": {
        "id": "DcnC7IPJ7G7N"
      },
      "source": [
        "#We do it with this one step\n",
        "df.Label = df.Label.apply(lambda x: x.replace(',',''))\n",
        "df.Label = df.Label.apply(lambda x: x.lower())"
      ],
      "execution_count": 25,
      "outputs": []
    },
    {
      "cell_type": "code",
      "metadata": {
        "id": "_UoOb2mD7G2e",
        "outputId": "78da2f96-070a-4085-e9b4-e9f065122c30",
        "colab": {
          "base_uri": "https://localhost:8080/"
        }
      },
      "source": [
        "labelskept = ['love', 'life', 'inspirational','humor', 'philosophy', 'god', 'truth','romance',\n",
        "              'death','success','wisdom',\n",
        "              'grief', 'faith', 'good', 'work',\n",
        "              'happiness', 'hope', 'funny', 'fear', \n",
        "              'passion', 'imagination', 'motivational', 'compassion', 'freedom',\n",
        "              'purpose', 'leadership', 'courage', 'peace', 'pain',\n",
        "              'creativity']\n",
        "\n",
        "test = pd.DataFrame(labelskept,columns=['labelskept'])\n",
        "len(test.labelskept.unique())"
      ],
      "execution_count": 26,
      "outputs": [
        {
          "output_type": "execute_result",
          "data": {
            "text/plain": [
              "30"
            ]
          },
          "metadata": {
            "tags": []
          },
          "execution_count": 26
        }
      ]
    },
    {
      "cell_type": "code",
      "metadata": {
        "id": "UQlEu_S18a3H",
        "outputId": "fb32894a-bb2d-4a5e-faff-dceb44b86103",
        "colab": {
          "base_uri": "https://localhost:8080/",
          "height": 201
        }
      },
      "source": [
        "#tokanizing label column\n",
        "tokenized_doc = df.Label.apply(lambda x: x.split())\n",
        "\n",
        "# remove stop-words\n",
        "tokenized_doc = tokenized_doc.apply(lambda x: [item for item in x if item in labelskept])\n",
        "\n",
        "# de-tokenization\n",
        "detokenized_doc = []\n",
        "for i in range(len(df)):\n",
        "    t = ' '.join(tokenized_doc[i])\n",
        "    detokenized_doc.append(t)\n",
        "\n",
        "df.Label = detokenized_doc\n",
        "df.head()"
      ],
      "execution_count": 27,
      "outputs": [
        {
          "output_type": "execute_result",
          "data": {
            "text/html": [
              "<div>\n",
              "<style scoped>\n",
              "    .dataframe tbody tr th:only-of-type {\n",
              "        vertical-align: middle;\n",
              "    }\n",
              "\n",
              "    .dataframe tbody tr th {\n",
              "        vertical-align: top;\n",
              "    }\n",
              "\n",
              "    .dataframe thead th {\n",
              "        text-align: right;\n",
              "    }\n",
              "</style>\n",
              "<table border=\"1\" class=\"dataframe\">\n",
              "  <thead>\n",
              "    <tr style=\"text-align: right;\">\n",
              "      <th></th>\n",
              "      <th>Quotes</th>\n",
              "      <th>Label</th>\n",
              "      <th>clean_doc</th>\n",
              "    </tr>\n",
              "  </thead>\n",
              "  <tbody>\n",
              "    <tr>\n",
              "      <th>0</th>\n",
              "      <td>I'm selfish, impatient and a little insecure. ...</td>\n",
              "      <td>life love truth</td>\n",
              "      <td>selfish impatient little insecure make mistake...</td>\n",
              "    </tr>\n",
              "    <tr>\n",
              "      <th>1</th>\n",
              "      <td>You've gotta dance like there's nobody watchin...</td>\n",
              "      <td>inspirational life love</td>\n",
              "      <td>gotta dance nobody watching hurt sing nobody l...</td>\n",
              "    </tr>\n",
              "    <tr>\n",
              "      <th>2</th>\n",
              "      <td>You know you're in love when you can't fall as...</td>\n",
              "      <td>love</td>\n",
              "      <td>know fall asleep reality finally better dreams</td>\n",
              "    </tr>\n",
              "    <tr>\n",
              "      <th>3</th>\n",
              "      <td>A friend is someone who knows all about you an...</td>\n",
              "      <td>love</td>\n",
              "      <td>friend someone knows still loves</td>\n",
              "    </tr>\n",
              "    <tr>\n",
              "      <th>4</th>\n",
              "      <td>Darkness cannot drive out darkness: only light...</td>\n",
              "      <td>inspirational love peace</td>\n",
              "      <td>darkness cannot drive darkness light hate cann...</td>\n",
              "    </tr>\n",
              "  </tbody>\n",
              "</table>\n",
              "</div>"
            ],
            "text/plain": [
              "                                              Quotes  ...                                          clean_doc\n",
              "0  I'm selfish, impatient and a little insecure. ...  ...  selfish impatient little insecure make mistake...\n",
              "1  You've gotta dance like there's nobody watchin...  ...  gotta dance nobody watching hurt sing nobody l...\n",
              "2  You know you're in love when you can't fall as...  ...     know fall asleep reality finally better dreams\n",
              "3  A friend is someone who knows all about you an...  ...                   friend someone knows still loves\n",
              "4  Darkness cannot drive out darkness: only light...  ...  darkness cannot drive darkness light hate cann...\n",
              "\n",
              "[5 rows x 3 columns]"
            ]
          },
          "metadata": {
            "tags": []
          },
          "execution_count": 27
        }
      ]
    },
    {
      "cell_type": "code",
      "metadata": {
        "id": "dQAdT06r8a2B",
        "outputId": "9c82e862-fb4d-4dd1-d160-9eeca815440f",
        "colab": {
          "base_uri": "https://localhost:8080/"
        }
      },
      "source": [
        "df.shape"
      ],
      "execution_count": 28,
      "outputs": [
        {
          "output_type": "execute_result",
          "data": {
            "text/plain": [
              "(367185, 3)"
            ]
          },
          "metadata": {
            "tags": []
          },
          "execution_count": 28
        }
      ]
    },
    {
      "cell_type": "code",
      "metadata": {
        "id": "OWt2JoYb8axu"
      },
      "source": [
        "#Eliminate all rows without values\n",
        "df.Label = df.Label.replace('',np.nan, regex=True)\n",
        "df = df.dropna()"
      ],
      "execution_count": 29,
      "outputs": []
    },
    {
      "cell_type": "code",
      "metadata": {
        "id": "0HOh1l1h85Nh",
        "outputId": "8198abd1-3144-4859-d99d-b20c416877a2",
        "colab": {
          "base_uri": "https://localhost:8080/"
        }
      },
      "source": [
        "df.shape"
      ],
      "execution_count": 30,
      "outputs": [
        {
          "output_type": "execute_result",
          "data": {
            "text/plain": [
              "(128068, 3)"
            ]
          },
          "metadata": {
            "tags": []
          },
          "execution_count": 30
        }
      ]
    },
    {
      "cell_type": "code",
      "metadata": {
        "id": "MMC-Z8Ee8ato",
        "outputId": "729180eb-69e0-49a1-c475-a91e28dff0d2",
        "colab": {
          "base_uri": "https://localhost:8080/"
        }
      },
      "source": [
        "#Let's check if its still multilabel\n",
        "df['Label Count'] = 3\n",
        "for ind, row in df.iterrows():\n",
        "  df['Label Count'][ind] = len(row['Label'].split())"
      ],
      "execution_count": 31,
      "outputs": [
        {
          "output_type": "stream",
          "text": [
            "/usr/local/lib/python3.6/dist-packages/ipykernel_launcher.py:4: SettingWithCopyWarning: \n",
            "A value is trying to be set on a copy of a slice from a DataFrame\n",
            "\n",
            "See the caveats in the documentation: https://pandas.pydata.org/pandas-docs/stable/user_guide/indexing.html#returning-a-view-versus-a-copy\n",
            "  after removing the cwd from sys.path.\n"
          ],
          "name": "stderr"
        }
      ]
    },
    {
      "cell_type": "code",
      "metadata": {
        "id": "B04eilp2NwjT",
        "outputId": "00e58fbc-bb84-4cdc-a268-1bda46f7387a",
        "colab": {
          "base_uri": "https://localhost:8080/",
          "height": 201
        }
      },
      "source": [
        "df.head()"
      ],
      "execution_count": 32,
      "outputs": [
        {
          "output_type": "execute_result",
          "data": {
            "text/html": [
              "<div>\n",
              "<style scoped>\n",
              "    .dataframe tbody tr th:only-of-type {\n",
              "        vertical-align: middle;\n",
              "    }\n",
              "\n",
              "    .dataframe tbody tr th {\n",
              "        vertical-align: top;\n",
              "    }\n",
              "\n",
              "    .dataframe thead th {\n",
              "        text-align: right;\n",
              "    }\n",
              "</style>\n",
              "<table border=\"1\" class=\"dataframe\">\n",
              "  <thead>\n",
              "    <tr style=\"text-align: right;\">\n",
              "      <th></th>\n",
              "      <th>Quotes</th>\n",
              "      <th>Label</th>\n",
              "      <th>clean_doc</th>\n",
              "      <th>Label Count</th>\n",
              "    </tr>\n",
              "  </thead>\n",
              "  <tbody>\n",
              "    <tr>\n",
              "      <th>0</th>\n",
              "      <td>I'm selfish, impatient and a little insecure. ...</td>\n",
              "      <td>life love truth</td>\n",
              "      <td>selfish impatient little insecure make mistake...</td>\n",
              "      <td>3</td>\n",
              "    </tr>\n",
              "    <tr>\n",
              "      <th>1</th>\n",
              "      <td>You've gotta dance like there's nobody watchin...</td>\n",
              "      <td>inspirational life love</td>\n",
              "      <td>gotta dance nobody watching hurt sing nobody l...</td>\n",
              "      <td>3</td>\n",
              "    </tr>\n",
              "    <tr>\n",
              "      <th>2</th>\n",
              "      <td>You know you're in love when you can't fall as...</td>\n",
              "      <td>love</td>\n",
              "      <td>know fall asleep reality finally better dreams</td>\n",
              "      <td>1</td>\n",
              "    </tr>\n",
              "    <tr>\n",
              "      <th>3</th>\n",
              "      <td>A friend is someone who knows all about you an...</td>\n",
              "      <td>love</td>\n",
              "      <td>friend someone knows still loves</td>\n",
              "      <td>1</td>\n",
              "    </tr>\n",
              "    <tr>\n",
              "      <th>4</th>\n",
              "      <td>Darkness cannot drive out darkness: only light...</td>\n",
              "      <td>inspirational love peace</td>\n",
              "      <td>darkness cannot drive darkness light hate cann...</td>\n",
              "      <td>3</td>\n",
              "    </tr>\n",
              "  </tbody>\n",
              "</table>\n",
              "</div>"
            ],
            "text/plain": [
              "                                              Quotes  ... Label Count\n",
              "0  I'm selfish, impatient and a little insecure. ...  ...           3\n",
              "1  You've gotta dance like there's nobody watchin...  ...           3\n",
              "2  You know you're in love when you can't fall as...  ...           1\n",
              "3  A friend is someone who knows all about you an...  ...           1\n",
              "4  Darkness cannot drive out darkness: only light...  ...           3\n",
              "\n",
              "[5 rows x 4 columns]"
            ]
          },
          "metadata": {
            "tags": []
          },
          "execution_count": 32
        }
      ]
    },
    {
      "cell_type": "code",
      "metadata": {
        "id": "qjYHsSTm8mvd",
        "outputId": "d9832c23-c25c-445a-c80a-ab38093f7764",
        "colab": {
          "base_uri": "https://localhost:8080/"
        }
      },
      "source": [
        "# Delete multilables\n",
        "df = df[df['Label Count'] == 1]\n",
        "df.shape"
      ],
      "execution_count": 33,
      "outputs": [
        {
          "output_type": "execute_result",
          "data": {
            "text/plain": [
              "(93395, 4)"
            ]
          },
          "metadata": {
            "tags": []
          },
          "execution_count": 33
        }
      ]
    },
    {
      "cell_type": "markdown",
      "metadata": {
        "id": "S7mxjwea9Zz8"
      },
      "source": [
        "### Modeling"
      ]
    },
    {
      "cell_type": "markdown",
      "metadata": {
        "id": "ZEUrB0S-9fQH"
      },
      "source": [
        "**Vectorization**"
      ]
    },
    {
      "cell_type": "code",
      "metadata": {
        "id": "gNXQKWf28mpa",
        "outputId": "a3fdb67c-2d64-46da-ee5b-50122809d119",
        "colab": {
          "base_uri": "https://localhost:8080/"
        }
      },
      "source": [
        "# The maximum number of words to be used. (most frequent)\n",
        "MAX_NB_WORDS = 50000\n",
        "\n",
        "\n",
        "# This is fixed.\n",
        "EMBEDDING_DIM = 100\n",
        "tokenizer = Tokenizer(num_words=MAX_NB_WORDS, filters='!\"#$%&()*+,-./:;<=>?@[\\]^_`{|}~', lower=True)\n",
        "tokenizer.fit_on_texts(df['clean_doc'].values)\n",
        "\n",
        "word_index = tokenizer.word_index\n",
        "print('Found %s unique tokens.' % len(word_index))"
      ],
      "execution_count": 36,
      "outputs": [
        {
          "output_type": "stream",
          "text": [
            "Found 45444 unique tokens.\n"
          ],
          "name": "stdout"
        }
      ]
    },
    {
      "cell_type": "code",
      "metadata": {
        "id": "qSVjJCrT8mkk",
        "outputId": "650c59b6-64f4-4991-80b9-7fc9c66386ab",
        "colab": {
          "base_uri": "https://localhost:8080/"
        }
      },
      "source": [
        "X = tokenizer.texts_to_sequences(df['clean_doc'].values)\n",
        "X = pad_sequences(X, maxlen=30)\n",
        "print('Shape of data tensor:', X.shape)"
      ],
      "execution_count": 37,
      "outputs": [
        {
          "output_type": "stream",
          "text": [
            "Shape of data tensor: (93395, 30)\n"
          ],
          "name": "stdout"
        }
      ]
    },
    {
      "cell_type": "code",
      "metadata": {
        "id": "M0R9V-Q29tRH",
        "outputId": "f5dd6654-493e-4c41-8845-56ec3a4e7acb",
        "colab": {
          "base_uri": "https://localhost:8080/"
        }
      },
      "source": [
        "Y = pd.get_dummies(df['Label']).values\n",
        "print('Shape of label tensor:', Y.shape)"
      ],
      "execution_count": 38,
      "outputs": [
        {
          "output_type": "stream",
          "text": [
            "Shape of label tensor: (93395, 30)\n"
          ],
          "name": "stdout"
        }
      ]
    },
    {
      "cell_type": "markdown",
      "metadata": {
        "id": "d5YcW8Sn9wP-"
      },
      "source": [
        "**Data split**"
      ]
    },
    {
      "cell_type": "code",
      "metadata": {
        "id": "dOTvbMtt9tHW",
        "outputId": "d7ffddd3-c817-4c4f-9007-648bf2f2440d",
        "colab": {
          "base_uri": "https://localhost:8080/"
        }
      },
      "source": [
        "X_train, X_test, Y_train, Y_test = train_test_split(X,Y, test_size = 0.10, random_state = 42)\n",
        "print(X_train.shape,Y_train.shape)\n",
        "print(X_test.shape,Y_test.shape)"
      ],
      "execution_count": 39,
      "outputs": [
        {
          "output_type": "stream",
          "text": [
            "(84055, 30) (84055, 30)\n",
            "(9340, 30) (9340, 30)\n"
          ],
          "name": "stdout"
        }
      ]
    },
    {
      "cell_type": "markdown",
      "metadata": {
        "id": "-e1ksepIZ8vm"
      },
      "source": [
        "**Model CReateion**"
      ]
    },
    {
      "cell_type": "code",
      "metadata": {
        "id": "U8AZH94A9tGD",
        "outputId": "ddfa4cf5-fcc8-40d7-e97e-6c4cb633d65e",
        "colab": {
          "base_uri": "https://localhost:8080/"
        }
      },
      "source": [
        "model = Sequential()\n",
        "\n",
        "# Configuring the parameters\n",
        "model.add(Embedding(MAX_NB_WORDS, output_dim=20, input_length=X.shape[1]))\n",
        "\n",
        "# Adding a dropout layer\n",
        "model.add(SpatialDropout1D(0.2))\n",
        "model.add(LSTM(100, dropout=0.2, recurrent_dropout=0.2))\n",
        "model.add(Dropout(0.2))\n",
        "\n",
        "# Adding a dense output layer with softmax activation\n",
        "model.add(Dense(30, activation='softmax'))\n",
        "model.compile(loss='categorical_crossentropy', optimizer='adam', metrics=['accuracy'])\n",
        "model.summary()"
      ],
      "execution_count": 43,
      "outputs": [
        {
          "output_type": "stream",
          "text": [
            "Model: \"sequential_1\"\n",
            "_________________________________________________________________\n",
            "Layer (type)                 Output Shape              Param #   \n",
            "=================================================================\n",
            "embedding_1 (Embedding)      (None, 30, 20)            1000000   \n",
            "_________________________________________________________________\n",
            "spatial_dropout1d_1 (Spatial (None, 30, 20)            0         \n",
            "_________________________________________________________________\n",
            "lstm_1 (LSTM)                (None, 100)               48400     \n",
            "_________________________________________________________________\n",
            "dropout (Dropout)            (None, 100)               0         \n",
            "_________________________________________________________________\n",
            "dense_1 (Dense)              (None, 30)                3030      \n",
            "=================================================================\n",
            "Total params: 1,051,430\n",
            "Trainable params: 1,051,430\n",
            "Non-trainable params: 0\n",
            "_________________________________________________________________\n"
          ],
          "name": "stdout"
        }
      ]
    },
    {
      "cell_type": "code",
      "metadata": {
        "id": "3jWe7vln9s_O",
        "outputId": "09f0cca7-a861-4797-9b70-b44fb05461e3",
        "colab": {
          "base_uri": "https://localhost:8080/"
        }
      },
      "source": [
        "history = model.fit(X_train, Y_train,\n",
        "                    epochs=5,\n",
        "                    batch_size=528,\n",
        "                    validation_split=0.1,\n",
        "                    callbacks=[EarlyStopping(monitor='val_loss', patience=3, min_delta=0.0001)])"
      ],
      "execution_count": 44,
      "outputs": [
        {
          "output_type": "stream",
          "text": [
            "Epoch 1/5\n",
            "144/144 [==============================] - 46s 323ms/step - loss: 3.0414 - accuracy: 0.1621 - val_loss: 2.9560 - val_accuracy: 0.1652\n",
            "Epoch 2/5\n",
            "144/144 [==============================] - 46s 321ms/step - loss: 2.7738 - accuracy: 0.2106 - val_loss: 2.5778 - val_accuracy: 0.2675\n",
            "Epoch 3/5\n",
            "144/144 [==============================] - 46s 318ms/step - loss: 2.3929 - accuracy: 0.3258 - val_loss: 2.3173 - val_accuracy: 0.3615\n",
            "Epoch 4/5\n",
            "144/144 [==============================] - 46s 319ms/step - loss: 2.1255 - accuracy: 0.4079 - val_loss: 2.2143 - val_accuracy: 0.4085\n",
            "Epoch 5/5\n",
            "144/144 [==============================] - 48s 330ms/step - loss: 1.9552 - accuracy: 0.4591 - val_loss: 2.1776 - val_accuracy: 0.4190\n"
          ],
          "name": "stdout"
        }
      ]
    },
    {
      "cell_type": "code",
      "metadata": {
        "id": "ESC-VNmxVY3C",
        "outputId": "120aad95-da45-41d9-cc7c-538d2e933f4c",
        "colab": {
          "base_uri": "https://localhost:8080/",
          "height": 280
        }
      },
      "source": [
        "plt.title('Accuracy')\n",
        "plt.plot(history.history['accuracy'], label='train')\n",
        "plt.plot(history.history['val_accuracy'], label='test')\n",
        "plt.legend()\n",
        "plt.show();"
      ],
      "execution_count": 45,
      "outputs": [
        {
          "output_type": "display_data",
          "data": {
            "image/png": "[encoded data removed]",
            "text/plain": [
              "<Figure size 432x288 with 1 Axes>"
            ]
          },
          "metadata": {
            "tags": [],
            "needs_background": "light"
          }
        }
      ]
    },
    {
      "cell_type": "markdown",
      "metadata": {
        "id": "ChJU865q62gR"
      },
      "source": [
        "## Extract, clean, alssify and store tweets"
      ]
    },
    {
      "cell_type": "markdown",
      "metadata": {
        "id": "53xS3oxcZNAq"
      },
      "source": [
        "### Extract"
      ]
    },
    {
      "cell_type": "markdown",
      "metadata": {
        "id": "xyee5-GCbm36"
      },
      "source": [
        "**Access to API**"
      ]
    },
    {
      "cell_type": "code",
      "metadata": {
        "id": "ulUdPIc758S3"
      },
      "source": [
        "# Variables that contains the credentials to access Twitter API\n",
        "ACCESS_TOKEN = 'XXXXXX'\n",
        "ACCESS_SECRET = 'XXXXXX'\n",
        "CONSUMER_KEY = 'XXXXXX'\n",
        "CONSUMER_SECRET = 'XXXXXX'\n",
        "\n",
        "\n",
        "# Setup access to API\n",
        "def connect_to_twitter_OAuth():\n",
        "    auth = tweepy.OAuthHandler(CONSUMER_KEY, CONSUMER_SECRET)\n",
        "    auth.set_access_token(ACCESS_TOKEN, ACCESS_SECRET)\n",
        "\n",
        "    api = tweepy.API(auth)\n",
        "    return api\n",
        "\n",
        "\n",
        "# Create API object\n",
        "api = connect_to_twitter_OAuth()"
      ],
      "execution_count": null,
      "outputs": []
    },
    {
      "cell_type": "markdown",
      "metadata": {
        "id": "aI6Y1dKObwXi"
      },
      "source": [
        "**Load tweets**"
      ]
    },
    {
      "cell_type": "code",
      "metadata": {
        "id": "ZO1chUoDYjfJ"
      },
      "source": [
        "# fuction to extract desired data from tweet object and concert it to df\n",
        "def extract_tweet_attributes(tweet_object):\n",
        "    # create empty list\n",
        "    tweet_list =[]\n",
        "\n",
        "    # loop through tweet objects\n",
        "    for tweet in tweet_object:\n",
        "      if (not tweet.retweeted) and ('RT @' not in tweet.full_text):\n",
        "\n",
        "        #here the  attributes from the tweet object\n",
        "        text = tweet.full_text # utf-8 text of tweet\n",
        "        name = tweet.user.name # unique integer identifier for tweet\n",
        "\n",
        "        # append attributes to list\n",
        "        tweet_list.append({'text':text,'name':name})\n",
        "\n",
        "    # create dataframe   \n",
        "    df = pd.DataFrame(tweet_list, columns=['text','name'])\n",
        "\n",
        "    return df"
      ],
      "execution_count": null,
      "outputs": []
    },
    {
      "cell_type": "code",
      "metadata": {
        "id": "VwACgYATb7L8"
      },
      "source": [
        "# Accounts\n",
        "user1 = 22256645    #@GreatestQuotes\n",
        "user2 = 152856447   #_FeelingsQuote_\n",
        "user3 = 23245396   #@quotepage\n",
        "users = [user1, user2, user3]"
      ],
      "execution_count": null,
      "outputs": []
    },
    {
      "cell_type": "code",
      "metadata": {
        "id": "J3AQM-dcZUhJ",
        "outputId": "9b7dbbb1-a730-43a0-a893-bacb7a09e99e",
        "colab": {
          "base_uri": "https://localhost:8080/",
          "height": 109
        }
      },
      "source": [
        "# Loop over users to extarct their tweets\n",
        "\n",
        "# Initialize list tp keep tweets\n",
        "totaltweets = []\n",
        "\n",
        "# Loop to gather tweets from different users\n",
        "for user in users:\n",
        "  \n",
        "  start_date= datetime.datetime(2020,9,2,00,00,00)\n",
        "  end_date = datetime.datetime(2020,9,3,00,00,00)\n",
        "  #Writting 00:00:00 you get all tweets from that day\n",
        "  #End date write the day after the last one you want to analyse\n",
        "\n",
        "  tweets = api.user_timeline(user_id=user, count=50, tweet_mode='extended')\n",
        "\n",
        "  for tweet in tweets:\n",
        "    if tweet.created_at < end_date and tweet.created_at > start_date:\n",
        "      totaltweets.append(tweet)\n",
        "\n",
        "dftweets = extract_tweet_attributes(totaltweets)\n",
        "dftweets.head(20)"
      ],
      "execution_count": null,
      "outputs": [
        {
          "output_type": "execute_result",
          "data": {
            "text/html": [
              "<div>\n",
              "<style scoped>\n",
              "    .dataframe tbody tr th:only-of-type {\n",
              "        vertical-align: middle;\n",
              "    }\n",
              "\n",
              "    .dataframe tbody tr th {\n",
              "        vertical-align: top;\n",
              "    }\n",
              "\n",
              "    .dataframe thead th {\n",
              "        text-align: right;\n",
              "    }\n",
              "</style>\n",
              "<table border=\"1\" class=\"dataframe\">\n",
              "  <thead>\n",
              "    <tr style=\"text-align: right;\">\n",
              "      <th></th>\n",
              "      <th>text</th>\n",
              "      <th>name</th>\n",
              "    </tr>\n",
              "  </thead>\n",
              "  <tbody>\n",
              "    <tr>\n",
              "      <th>0</th>\n",
              "      <td>\"I have two judges and two only; the ten year ...</td>\n",
              "      <td>Quote of the Day</td>\n",
              "    </tr>\n",
              "    <tr>\n",
              "      <th>1</th>\n",
              "      <td>\"You have brains in your head. Your feet in yo...</td>\n",
              "      <td>Quote of the Day</td>\n",
              "    </tr>\n",
              "  </tbody>\n",
              "</table>\n",
              "</div>"
            ],
            "text/plain": [
              "                                                text              name\n",
              "0  \"I have two judges and two only; the ten year ...  Quote of the Day\n",
              "1  \"You have brains in your head. Your feet in yo...  Quote of the Day"
            ]
          },
          "metadata": {
            "tags": []
          },
          "execution_count": 34
        }
      ]
    },
    {
      "cell_type": "markdown",
      "metadata": {
        "id": "yxghZS2IieeN"
      },
      "source": [
        "### Clean"
      ]
    },
    {
      "cell_type": "code",
      "metadata": {
        "id": "Tm7hVQmkab57"
      },
      "source": [
        "def checktweet(tweet):\n",
        "  # remove hyperlinks\n",
        "  tweet = re.sub(r'https?:\\/\\/.*[\\r\\n]*', '', tweet)\n",
        "\n",
        "  # remove hashtags with space before it\n",
        "  tweet = re.sub(r'(\\s)#\\w+', r'', tweet)\n",
        " \n",
        "  # remove hashtags without space before it\n",
        "  tweet = re.sub(r'#\\w+', r'', tweet)\n",
        "  \n",
        "  # remove mentions\n",
        "  tweet = re.sub(r'(\\s)@\\w+', '', tweet)\n",
        "  \n",
        "  # remove author\n",
        "  if len([pos for pos, char in enumerate(tweet) if char == '-']) > 0:\n",
        "    tweet = tweet[:[pos for pos, char in enumerate(tweet) if char == '-'][-1]]\n",
        "\n",
        "\n",
        "  # remove punctuations and convert characters to lower case\n",
        "  tweet = \"\".join([char.lower() for char in tweet if char not in string.punctuation]) \n",
        "\n",
        "  # Also, removes leading and trailing whitespaces\n",
        "  tweet = re.sub('\\s+', ' ', tweet).strip()\n",
        "  \n",
        "  # remove stop words\n",
        "  tweet = \" \".join([word for word in tweet.split() if word not in stopwords.words('english')])\n",
        "\n",
        "\n",
        "  if (len(tweet) > 280) or (len(tweet) < 20):\n",
        "    return None\n",
        "  else:  \n",
        "    return tweet"
      ],
      "execution_count": null,
      "outputs": []
    },
    {
      "cell_type": "code",
      "metadata": {
        "id": "SkVyVcK4ijAE",
        "outputId": "03bdbff7-89cc-45c2-d6ae-f28abea1d602",
        "colab": {
          "base_uri": "https://localhost:8080/",
          "height": 109
        }
      },
      "source": [
        "dftweets['text clean'] = dftweets.text.apply(lambda x: checktweet(x))\n",
        "dftweets = dftweets.dropna()\n",
        "dftweets"
      ],
      "execution_count": null,
      "outputs": [
        {
          "output_type": "execute_result",
          "data": {
            "text/html": [
              "<div>\n",
              "<style scoped>\n",
              "    .dataframe tbody tr th:only-of-type {\n",
              "        vertical-align: middle;\n",
              "    }\n",
              "\n",
              "    .dataframe tbody tr th {\n",
              "        vertical-align: top;\n",
              "    }\n",
              "\n",
              "    .dataframe thead th {\n",
              "        text-align: right;\n",
              "    }\n",
              "</style>\n",
              "<table border=\"1\" class=\"dataframe\">\n",
              "  <thead>\n",
              "    <tr style=\"text-align: right;\">\n",
              "      <th></th>\n",
              "      <th>text</th>\n",
              "      <th>name</th>\n",
              "      <th>text clean</th>\n",
              "    </tr>\n",
              "  </thead>\n",
              "  <tbody>\n",
              "    <tr>\n",
              "      <th>0</th>\n",
              "      <td>\"I have two judges and two only; the ten year ...</td>\n",
              "      <td>Quote of the Day</td>\n",
              "      <td>two judges two ten year old inside told never ...</td>\n",
              "    </tr>\n",
              "    <tr>\n",
              "      <th>1</th>\n",
              "      <td>\"You have brains in your head. Your feet in yo...</td>\n",
              "      <td>Quote of the Day</td>\n",
              "      <td>brains head feet shoes steer direction choose</td>\n",
              "    </tr>\n",
              "  </tbody>\n",
              "</table>\n",
              "</div>"
            ],
            "text/plain": [
              "                                                text  ...                                         text clean\n",
              "0  \"I have two judges and two only; the ten year ...  ...  two judges two ten year old inside told never ...\n",
              "1  \"You have brains in your head. Your feet in yo...  ...      brains head feet shoes steer direction choose\n",
              "\n",
              "[2 rows x 3 columns]"
            ]
          },
          "metadata": {
            "tags": []
          },
          "execution_count": 36
        }
      ]
    },
    {
      "cell_type": "markdown",
      "metadata": {
        "id": "EWcXHFn6jxY3"
      },
      "source": [
        "### Clasify"
      ]
    },
    {
      "cell_type": "code",
      "metadata": {
        "id": "yWRGstsrjM8L",
        "outputId": "2d156344-50b8-4f18-c021-c103093fb925",
        "colab": {
          "base_uri": "https://localhost:8080/",
          "height": 109
        }
      },
      "source": [
        "#Create column converting texts to lists\n",
        "dftweets['text ready'] = dftweets['text clean'].apply(lambda x: [str(x)])\n",
        "dftweets"
      ],
      "execution_count": null,
      "outputs": [
        {
          "output_type": "execute_result",
          "data": {
            "text/html": [
              "<div>\n",
              "<style scoped>\n",
              "    .dataframe tbody tr th:only-of-type {\n",
              "        vertical-align: middle;\n",
              "    }\n",
              "\n",
              "    .dataframe tbody tr th {\n",
              "        vertical-align: top;\n",
              "    }\n",
              "\n",
              "    .dataframe thead th {\n",
              "        text-align: right;\n",
              "    }\n",
              "</style>\n",
              "<table border=\"1\" class=\"dataframe\">\n",
              "  <thead>\n",
              "    <tr style=\"text-align: right;\">\n",
              "      <th></th>\n",
              "      <th>text</th>\n",
              "      <th>name</th>\n",
              "      <th>text clean</th>\n",
              "      <th>text ready</th>\n",
              "    </tr>\n",
              "  </thead>\n",
              "  <tbody>\n",
              "    <tr>\n",
              "      <th>0</th>\n",
              "      <td>\"I have two judges and two only; the ten year ...</td>\n",
              "      <td>Quote of the Day</td>\n",
              "      <td>two judges two ten year old inside told never ...</td>\n",
              "      <td>[two judges two ten year old inside told never...</td>\n",
              "    </tr>\n",
              "    <tr>\n",
              "      <th>1</th>\n",
              "      <td>\"You have brains in your head. Your feet in yo...</td>\n",
              "      <td>Quote of the Day</td>\n",
              "      <td>brains head feet shoes steer direction choose</td>\n",
              "      <td>[brains head feet shoes steer direction choose]</td>\n",
              "    </tr>\n",
              "  </tbody>\n",
              "</table>\n",
              "</div>"
            ],
            "text/plain": [
              "                                                text  ...                                         text ready\n",
              "0  \"I have two judges and two only; the ten year ...  ...  [two judges two ten year old inside told never...\n",
              "1  \"You have brains in your head. Your feet in yo...  ...    [brains head feet shoes steer direction choose]\n",
              "\n",
              "[2 rows x 4 columns]"
            ]
          },
          "metadata": {
            "tags": []
          },
          "execution_count": 37
        }
      ]
    },
    {
      "cell_type": "code",
      "metadata": {
        "id": "LO4pMgDtkcMj"
      },
      "source": [
        "# Creatig function to call the model\n",
        "\n",
        "labels = ['compassion', 'courage', 'creativity', 'death', 'faith', 'fear',\n",
        "       'freedom', 'funny', 'god', 'good', 'grief', 'happiness', 'hope',\n",
        "       'humor', 'imagination', 'inspirational', 'leadership', 'life', 'love',\n",
        "       'motivational', 'pain', 'passion', 'peace', 'philosophy', 'purpose',\n",
        "       'romance', 'success', 'truth', 'wisdom', 'work']\n",
        "\n",
        "def predictor(text):\n",
        "    seq = tokenizer.texts_to_sequences(text)\n",
        "    padded = pad_sequences(seq, maxlen=140)\n",
        "    pred = model.predict(padded)\n",
        "    return labels[np.argmax(pred)]"
      ],
      "execution_count": null,
      "outputs": []
    },
    {
      "cell_type": "code",
      "metadata": {
        "id": "WhsVwtLPkqkS",
        "outputId": "22893b34-158c-437d-e74a-5809475ee795",
        "colab": {
          "base_uri": "https://localhost:8080/",
          "height": 142
        }
      },
      "source": [
        "# Creating empty column for labelling and labelling\n",
        "dftweets['results']='empty'\n",
        "dftweets.results = dftweets['text ready'].apply(lambda x: predictor(x))\n",
        "dftweets[0:30]"
      ],
      "execution_count": null,
      "outputs": [
        {
          "output_type": "execute_result",
          "data": {
            "text/html": [
              "<div>\n",
              "<style scoped>\n",
              "    .dataframe tbody tr th:only-of-type {\n",
              "        vertical-align: middle;\n",
              "    }\n",
              "\n",
              "    .dataframe tbody tr th {\n",
              "        vertical-align: top;\n",
              "    }\n",
              "\n",
              "    .dataframe thead th {\n",
              "        text-align: right;\n",
              "    }\n",
              "</style>\n",
              "<table border=\"1\" class=\"dataframe\">\n",
              "  <thead>\n",
              "    <tr style=\"text-align: right;\">\n",
              "      <th></th>\n",
              "      <th>text</th>\n",
              "      <th>name</th>\n",
              "      <th>text clean</th>\n",
              "      <th>text ready</th>\n",
              "      <th>results</th>\n",
              "    </tr>\n",
              "  </thead>\n",
              "  <tbody>\n",
              "    <tr>\n",
              "      <th>0</th>\n",
              "      <td>\"I have two judges and two only; the ten year ...</td>\n",
              "      <td>Quote of the Day</td>\n",
              "      <td>two judges two ten year old inside told never ...</td>\n",
              "      <td>[two judges two ten year old inside told never...</td>\n",
              "      <td>death</td>\n",
              "    </tr>\n",
              "    <tr>\n",
              "      <th>1</th>\n",
              "      <td>\"You have brains in your head. Your feet in yo...</td>\n",
              "      <td>Quote of the Day</td>\n",
              "      <td>brains head feet shoes steer direction choose</td>\n",
              "      <td>[brains head feet shoes steer direction choose]</td>\n",
              "      <td>humor</td>\n",
              "    </tr>\n",
              "  </tbody>\n",
              "</table>\n",
              "</div>"
            ],
            "text/plain": [
              "                                                text  ... results\n",
              "0  \"I have two judges and two only; the ten year ...  ...   death\n",
              "1  \"You have brains in your head. Your feet in yo...  ...   humor\n",
              "\n",
              "[2 rows x 5 columns]"
            ]
          },
          "metadata": {
            "tags": []
          },
          "execution_count": 39
        }
      ]
    },
    {
      "cell_type": "markdown",
      "metadata": {
        "id": "_E16scD0ldbp"
      },
      "source": [
        "### Store"
      ]
    },
    {
      "cell_type": "code",
      "metadata": {
        "id": "BYcjh5b6O75Y",
        "outputId": "be171554-c14d-4f34-a033-d61f6b0affed",
        "colab": {
          "base_uri": "https://localhost:8080/",
          "height": 109
        }
      },
      "source": [
        "# We need to rearrenge the dataframe a bit\n",
        "dftweets = dftweets.drop(columns=['name','text clean','text ready'])\n",
        "dftweets = dftweets.rename(columns={\"text\": \"Quotes\", \"results\": \"Label\"})\n",
        "dftweets"
      ],
      "execution_count": null,
      "outputs": [
        {
          "output_type": "execute_result",
          "data": {
            "text/html": [
              "<div>\n",
              "<style scoped>\n",
              "    .dataframe tbody tr th:only-of-type {\n",
              "        vertical-align: middle;\n",
              "    }\n",
              "\n",
              "    .dataframe tbody tr th {\n",
              "        vertical-align: top;\n",
              "    }\n",
              "\n",
              "    .dataframe thead th {\n",
              "        text-align: right;\n",
              "    }\n",
              "</style>\n",
              "<table border=\"1\" class=\"dataframe\">\n",
              "  <thead>\n",
              "    <tr style=\"text-align: right;\">\n",
              "      <th></th>\n",
              "      <th>Quotes</th>\n",
              "      <th>Label</th>\n",
              "    </tr>\n",
              "  </thead>\n",
              "  <tbody>\n",
              "    <tr>\n",
              "      <th>0</th>\n",
              "      <td>\"I have two judges and two only; the ten year ...</td>\n",
              "      <td>death</td>\n",
              "    </tr>\n",
              "    <tr>\n",
              "      <th>1</th>\n",
              "      <td>\"You have brains in your head. Your feet in yo...</td>\n",
              "      <td>humor</td>\n",
              "    </tr>\n",
              "  </tbody>\n",
              "</table>\n",
              "</div>"
            ],
            "text/plain": [
              "                                              Quotes  Label\n",
              "0  \"I have two judges and two only; the ten year ...  death\n",
              "1  \"You have brains in your head. Your feet in yo...  humor"
            ]
          },
          "metadata": {
            "tags": []
          },
          "execution_count": 40
        }
      ]
    },
    {
      "cell_type": "code",
      "metadata": {
        "id": "Ndbw4WAwOCYg",
        "outputId": "f38fcea5-54ac-4232-e1d2-3291ecf12951",
        "colab": {
          "base_uri": "https://localhost:8080/",
          "height": 135
        }
      },
      "source": [
        "#To store we need to firt convert it to a dictionary\n",
        "dftweets.reset_index(inplace=True)\n",
        "data_dict = dftweets.to_dict(\"records\")\n",
        "data_dict"
      ],
      "execution_count": null,
      "outputs": [
        {
          "output_type": "execute_result",
          "data": {
            "text/plain": [
              "[{'Label': 'death',\n",
              "  'Quotes': '\"I have two judges and two only; the ten year old inside who told me never to stop dreaming and the dying man who told me never to stop living.\" - Raphie Frank',\n",
              "  'index': 0},\n",
              " {'Label': 'humor',\n",
              "  'Quotes': '\"You have brains in your head. Your feet in your shoes. You can steer yourself in any direction you choose.\" - Theodor Seuss Geisel',\n",
              "  'index': 1}]"
            ]
          },
          "metadata": {
            "tags": []
          },
          "execution_count": 41
        }
      ]
    },
    {
      "cell_type": "code",
      "metadata": {
        "id": "58-SUzvLlDI9",
        "outputId": "b82d91ba-8db5-4b66-fdb8-d96bdcec927d",
        "colab": {
          "base_uri": "https://localhost:8080/",
          "height": 32
        }
      },
      "source": [
        "#Insert\n",
        "labelled_quotes.insert_one({\"data\":data_dict})"
      ],
      "execution_count": null,
      "outputs": [
        {
          "output_type": "execute_result",
          "data": {
            "text/plain": [
              "<pymongo.results.InsertOneResult at 0x7f840b56e648>"
            ]
          },
          "metadata": {
            "tags": []
          },
          "execution_count": 42
        }
      ]
    }
  ]
}